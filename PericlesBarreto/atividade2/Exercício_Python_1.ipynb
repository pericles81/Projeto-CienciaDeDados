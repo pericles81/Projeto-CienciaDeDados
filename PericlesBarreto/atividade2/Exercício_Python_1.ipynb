**Exercício 1 - Aquecimento de Python para Ciência de Dados**
1. Imprima "Hello, World!" no console.
print("Hello, Word!")
2. Crie uma variável x com valor 10 e imprima seu valor.
x = 10
print(x)
3. Some dois números e exiba o resultado.
a = 10
b = 20
print(a+b)

4. Verifique se um número é par ou ímpar.

n = int(input())
if n % 2 != 0:
    print('não é par')
else:
    print('é par')
5. Crie uma função que receba dois números e retorne a soma deles.
a = int(input())
b = int(input())

print(a+b)
6. Crie uma lista com os números de 1 a 5 e imprima-a.

list = [1,2,3,4,5]
print(list)
7. Adicione o número 6 à lista criada na questão anterior.

list.append(6)
print(list)
8. Remova o número 3 da lista.
list.remove(3)
print(list)
9. Acesse o terceiro elemento da lista.
list.index(2)

10. Imprima o tamanho da lista.
tamanho = len(list)
print(tamanho)
11. Crie um dicionário com informações de um carro (marca, modelo, ano).
carro = {'marca':"toyota", 'modelo':"corolla", 'ano':2015}
print(carro)
12. Acesse o valor associado à chave "marca" no dicionário.
print(carro["marca"])
13. Adicione uma nova chave "cor" com valor "preto" ao dicionário.
carro['cor'] = 'preto'
print(carro)
14. Verifique se a chave "modelo" existe no dicionário.

if 'modelo' in carro:
    print("A chave 'cor' existe no dicionário.")
else:
    print("A chave 'cor' não existe no dicionário.")
15. Itere sobre as chaves do dicionário e imprima cada uma delas.
for chave in carro.keys():
    print(chave)
15. Itere sobre as chaves do dicionário e imprima cada uma delas.
for chave in carro.keys():
    print(chave)
17. Crie uma função que receba uma lista e retorne a soma dos elementos.
def somarLista(list):
    soma = 0
    for num in list:
        soma += num
    return soma


print(somarLista(list))

18. Crie uma função que receba um dicionário e retorne todas as suas chaves.

def returnKeysObj(obj):
  for key in obj.keys():
    print(key)
  return key


print(returnKeysObj(carro))

19. Crie uma função que receba um dicionário e imprima chave e valor em linhas separadas.
def imprimir_chaves_e_valores(dicionario):
    for chave, valor in dicionario.items():
        print(f"Chave: {chave}, Valor: {valor}")


imprimir_chaves_e_valores(carro)
20. Crie uma classe chamada Pessoa com atributos nome e idade, e um método que imprima esses dados.
class Pessoa:
    def __init__(self, nome, idade):
        self.nome = nome
        self.idade = idade

    def imprimir_dados(self):
        print(f"Nome: {self.nome}, Idade: {self.idade}")

pessoa1 = Pessoa("Jose", 25)
pessoa1.imprimir_dados()
